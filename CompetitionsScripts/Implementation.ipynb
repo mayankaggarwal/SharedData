{
 "cells": [
  {
   "cell_type": "markdown",
   "metadata": {},
   "source": [
    "# <font color=\"#FA8072\">Corporación Favorita Grocery Sales Forecasting</font>"
   ]
  },
  {
   "cell_type": "markdown",
   "metadata": {},
   "source": [
    "## <font color=\"#FA8072\">Importing Libraries<font/>"
   ]
  },
  {
   "cell_type": "code",
   "execution_count": 1,
   "metadata": {
    "collapsed": true
   },
   "outputs": [],
   "source": [
    "import os\n",
    "import pandas as pd\n",
    "import numpy as np\n",
    "import gc\n",
    "import datetime as dt"
   ]
  },
  {
   "cell_type": "markdown",
   "metadata": {},
   "source": [
    "## <font color=\"#FA8072\">Reading Data</font>"
   ]
  },
  {
   "cell_type": "code",
   "execution_count": 2,
   "metadata": {
    "collapsed": true
   },
   "outputs": [],
   "source": [
    "folderPath = \"D:\\Competitions\\CorporationGrocerySalesPrediction\""
   ]
  },
  {
   "cell_type": "code",
   "execution_count": 55,
   "metadata": {
    "collapsed": true
   },
   "outputs": [],
   "source": [
    "fileName = \"train.csv\"\n",
    "filePath = os.path.join(folderPath,fileName)\n",
    "types = {\n",
    "    'item_nbr':np.uint16,\n",
    "    'store_nbr':np.uint8,\n",
    "    'unit_sales':np.float32,\n",
    "    'onpromotion':'object'\n",
    "}\n",
    "df_train = pd.read_csv(filePath\n",
    "                   ,usecols=['store_nbr','date','item_nbr','unit_sales','onpromotion']\n",
    "                   ,dtype=types\n",
    "                  )"
   ]
  },
  {
   "cell_type": "code",
   "execution_count": 34,
   "metadata": {},
   "outputs": [
    {
     "name": "stdout",
     "output_type": "stream",
     "text": [
      "Number of rows: 125497040\n",
      "ColumnNames: ['date' 'store_nbr' 'item_nbr' 'unit_sales' 'onpromotion']\n"
     ]
    }
   ],
   "source": [
    "print(\"Number of rows:\",len(df_train))\n",
    "print(\"ColumnNames:\",df_train.columns.values)"
   ]
  },
  {
   "cell_type": "code",
   "execution_count": 35,
   "metadata": {
    "collapsed": true
   },
   "outputs": [],
   "source": [
    "testFileName = \"test.csv\"\n",
    "storeFileName = \"stores.csv\"\n",
    "holidayFileName = \"holidays_events.csv\"\n",
    "transactionFileName = \"transactions.csv\"\n",
    "itemFileName = \"items\"\n",
    "oilFileName = \"oil.csv\""
   ]
  },
  {
   "cell_type": "code",
   "execution_count": 38,
   "metadata": {
    "collapsed": true
   },
   "outputs": [],
   "source": [
    "types = {\n",
    "    'id':np.uint32,\n",
    "    'item_nbr':np.uint16,\n",
    "    'store_nbr':np.uint8,\n",
    "    'onpromotion':'object'\n",
    "}\n",
    "test = pd.read_csv(os.path.join(folderPath,testFileName)\n",
    "                   ,usecols=['id','store_nbr','date','item_nbr','onpromotion']\n",
    "                   ,dtype=types)"
   ]
  },
  {
   "cell_type": "markdown",
   "metadata": {
    "collapsed": true
   },
   "source": [
    "## <font color=\"#FA8072\">Data Preprocessing</font>"
   ]
  },
  {
   "cell_type": "code",
   "execution_count": 18,
   "metadata": {
    "collapsed": true
   },
   "outputs": [],
   "source": [
    "df_train['onpromotion'] = df_train['onpromotion'].fillna(2)\n",
    "df_train['onpromotion'] = df_train['onpromotion'].replace('True',1)\n",
    "df_train['onpromotion'] = df_train['onpromotion'].replace('False',0)\n",
    "df_train[\"onpromotion\"] = df_train[\"onpromotion\"].astype(np.int8)"
   ]
  },
  {
   "cell_type": "code",
   "execution_count": 56,
   "metadata": {
    "collapsed": true
   },
   "outputs": [],
   "source": [
    "df_train[\"date\"] =  pd.to_datetime(df_train[\"date\"],format=\"%Y-%m-%d\",exact=True)"
   ]
  },
  {
   "cell_type": "code",
   "execution_count": 39,
   "metadata": {
    "collapsed": true
   },
   "outputs": [],
   "source": [
    "test['onpromotion'] = test['onpromotion'].fillna(2)\n",
    "test['onpromotion'] = test['onpromotion'].replace('True',1)\n",
    "test['onpromotion'] = test['onpromotion'].replace('False',0)\n",
    "test[\"onpromotion\"] = test[\"onpromotion\"].astype(np.int8)"
   ]
  },
  {
   "cell_type": "code",
   "execution_count": 40,
   "metadata": {
    "collapsed": true
   },
   "outputs": [],
   "source": [
    "test[\"date\"] =  pd.to_datetime(test[\"date\"],format=\"%Y-%m-%d\",exact=True)"
   ]
  },
  {
   "cell_type": "markdown",
   "metadata": {},
   "source": [
    "### <font color=\"#FA8072\">Data Values</font>"
   ]
  },
  {
   "cell_type": "code",
   "execution_count": 22,
   "metadata": {},
   "outputs": [
    {
     "data": {
      "text/plain": [
       "0    96028767\n",
       "2    21657651\n",
       "1     7810622\n",
       "Name: onpromotion, dtype: int64"
      ]
     },
     "execution_count": 22,
     "metadata": {},
     "output_type": "execute_result"
    }
   ],
   "source": [
    "df_train[\"onpromotion\"].value_counts()"
   ]
  },
  {
   "cell_type": "code",
   "execution_count": 31,
   "metadata": {},
   "outputs": [
    {
     "name": "stdout",
     "output_type": "stream",
     "text": [
      "Unit Sales smaller than zeros: 7795\n"
     ]
    }
   ],
   "source": [
    "print('Unit Sales smaller than zero:', (df_train[\"unit_sales\"]<0).sum())"
   ]
  },
  {
   "cell_type": "code",
   "execution_count": 33,
   "metadata": {},
   "outputs": [
    {
     "name": "stdout",
     "output_type": "stream",
     "text": [
      "Max date: 2017-08-15 00:00:00 Min date: 2013-01-01 00:00:00\n",
      "Unique Stores: 54 Unique Items: 256\n"
     ]
    }
   ],
   "source": [
    "print(\"Max date:\",df_train[\"date\"].max(),\"Min date:\",df_train[\"date\"].min())\n",
    "print(\"Unique Stores:\",len(df_train[\"store_nbr\"].unique()),\"Unique Items:\",len(df_train[\"item_nbr\"].unique()))"
   ]
  },
  {
   "cell_type": "code",
   "execution_count": 8,
   "metadata": {
    "scrolled": true
   },
   "outputs": [
    {
     "name": "stdout",
     "output_type": "stream",
     "text": [
      "<class 'pandas.core.frame.DataFrame'>\n",
      "MultiIndex: 82600776 entries, (2016-08-01 00:00:00, 1, 103520) to (2017-08-15 00:00:00, 52, 2011451)\n",
      "Data columns (total 2 columns):\n",
      "unit_sales    float32\n",
      "dow           float64\n",
      "dtypes: float32(1), float64(1)\n",
      "memory usage: 1.3 GB\n"
     ]
    }
   ],
   "source": [
    "df_train.info()"
   ]
  },
  {
   "cell_type": "code",
   "execution_count": 43,
   "metadata": {},
   "outputs": [
    {
     "name": "stdout",
     "output_type": "stream",
     "text": [
      "0    3171867\n",
      "1     198597\n",
      "Name: onpromotion, dtype: int64\n",
      "Max date: 2017-08-31 00:00:00 Min date: 2017-08-16 00:00:00\n",
      "Unique Stores: 54 Unique Items: 256\n"
     ]
    }
   ],
   "source": [
    "print(test[\"onpromotion\"].value_counts())\n",
    "print(\"Max date:\",test[\"date\"].max(),\"Min date:\",test[\"date\"].min())\n",
    "print(\"Unique Stores:\",len(test[\"store_nbr\"].unique()),\"Unique Items:\",len(test[\"item_nbr\"].unique()))"
   ]
  }
 ],
 "metadata": {
  "kernelspec": {
   "display_name": "deeplearning",
   "language": "python",
   "name": "deeplearning"
  },
  "language_info": {
   "codemirror_mode": {
    "name": "ipython",
    "version": 3
   },
   "file_extension": ".py",
   "mimetype": "text/x-python",
   "name": "python",
   "nbconvert_exporter": "python",
   "pygments_lexer": "ipython3",
   "version": "3.5.4"
  }
 },
 "nbformat": 4,
 "nbformat_minor": 2
}
